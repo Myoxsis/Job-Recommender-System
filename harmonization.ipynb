{
 "cells": [
  {
   "cell_type": "code",
   "execution_count": 1,
   "metadata": {},
   "outputs": [],
   "source": [
    "# this program aims to harmonize the databases of different company in one data lake"
   ]
  },
  {
   "cell_type": "code",
   "execution_count": 1,
   "metadata": {},
   "outputs": [],
   "source": [
    "import pandas as pd"
   ]
  },
  {
   "cell_type": "code",
   "execution_count": 2,
   "metadata": {},
   "outputs": [],
   "source": [
    "# Import databases\n",
    "\n",
    "airFrance_db = pd.read_csv('backup/airFrance_db.csv')\n",
    "hermes_db = pd.read_csv('backup/hermes_db.csv')\n",
    "richemont_db = pd.read_csv('backup/richemont_db.csv')\n",
    "sanofi_db = pd.read_csv('backup/sanofi_db.csv')"
   ]
  },
  {
   "cell_type": "code",
   "execution_count": 4,
   "metadata": {},
   "outputs": [
    {
     "data": {
      "text/html": [
       "<div>\n",
       "<style scoped>\n",
       "    .dataframe tbody tr th:only-of-type {\n",
       "        vertical-align: middle;\n",
       "    }\n",
       "\n",
       "    .dataframe tbody tr th {\n",
       "        vertical-align: top;\n",
       "    }\n",
       "\n",
       "    .dataframe thead th {\n",
       "        text-align: right;\n",
       "    }\n",
       "</style>\n",
       "<table border=\"1\" class=\"dataframe\">\n",
       "  <thead>\n",
       "    <tr style=\"text-align: right;\">\n",
       "      <th></th>\n",
       "      <th>Unnamed: 0</th>\n",
       "      <th>Position</th>\n",
       "      <th>link</th>\n",
       "      <th>Company</th>\n",
       "      <th>Department</th>\n",
       "      <th>Location</th>\n",
       "      <th>desc</th>\n",
       "    </tr>\n",
       "  </thead>\n",
       "  <tbody>\n",
       "    <tr>\n",
       "      <th>0</th>\n",
       "      <td>0</td>\n",
       "      <td>STAGE – Développeur Web Full Stack H/F</td>\n",
       "      <td>/offre-de-emploi/emploi-stage-developpeur-web-...</td>\n",
       "      <td>Air France</td>\n",
       "      <td>NaN</td>\n",
       "      <td>[&lt;li&gt;Convention de stage&lt;/li&gt;, &lt;li&gt;Occitanie&lt;/...</td>\n",
       "      <td>\\n\\n                Informations générales\\n  ...</td>\n",
       "    </tr>\n",
       "    <tr>\n",
       "      <th>1</th>\n",
       "      <td>1</td>\n",
       "      <td>STAGE - Ingénierie Analyse des Paramètres Enre...</td>\n",
       "      <td>/offre-de-emploi/emploi-stage-ingenierie-analy...</td>\n",
       "      <td>Air France</td>\n",
       "      <td>NaN</td>\n",
       "      <td>[&lt;li&gt;Convention de stage&lt;/li&gt;, &lt;li&gt;Ile-de-Fran...</td>\n",
       "      <td>\\n\\n                Informations générales\\n  ...</td>\n",
       "    </tr>\n",
       "  </tbody>\n",
       "</table>\n",
       "</div>"
      ],
      "text/plain": [
       "   Unnamed: 0                                           Position  \\\n",
       "0           0             STAGE – Développeur Web Full Stack H/F   \n",
       "1           1  STAGE - Ingénierie Analyse des Paramètres Enre...   \n",
       "\n",
       "                                                link     Company  Department  \\\n",
       "0  /offre-de-emploi/emploi-stage-developpeur-web-...  Air France         NaN   \n",
       "1  /offre-de-emploi/emploi-stage-ingenierie-analy...  Air France         NaN   \n",
       "\n",
       "                                            Location  \\\n",
       "0  [<li>Convention de stage</li>, <li>Occitanie</...   \n",
       "1  [<li>Convention de stage</li>, <li>Ile-de-Fran...   \n",
       "\n",
       "                                                desc  \n",
       "0  \\n\\n                Informations générales\\n  ...  \n",
       "1  \\n\\n                Informations générales\\n  ...  "
      ]
     },
     "execution_count": 4,
     "metadata": {},
     "output_type": "execute_result"
    }
   ],
   "source": [
    "airFrance_db.head(2)"
   ]
  },
  {
   "cell_type": "code",
   "execution_count": 5,
   "metadata": {},
   "outputs": [
    {
     "data": {
      "text/html": [
       "<div>\n",
       "<style scoped>\n",
       "    .dataframe tbody tr th:only-of-type {\n",
       "        vertical-align: middle;\n",
       "    }\n",
       "\n",
       "    .dataframe tbody tr th {\n",
       "        vertical-align: top;\n",
       "    }\n",
       "\n",
       "    .dataframe thead th {\n",
       "        text-align: right;\n",
       "    }\n",
       "</style>\n",
       "<table border=\"1\" class=\"dataframe\">\n",
       "  <thead>\n",
       "    <tr style=\"text-align: right;\">\n",
       "      <th></th>\n",
       "      <th>Unnamed: 0</th>\n",
       "      <th>Position</th>\n",
       "      <th>link</th>\n",
       "      <th>Company</th>\n",
       "      <th>Department</th>\n",
       "      <th>Location</th>\n",
       "      <th>desc</th>\n",
       "    </tr>\n",
       "  </thead>\n",
       "  <tbody>\n",
       "    <tr>\n",
       "      <th>0</th>\n",
       "      <td>0</td>\n",
       "      <td>CDI - Chargé de formation interne et communica...</td>\n",
       "      <td>/fr/les-opportunites/146944fr-cdi-charge-de-fo...</td>\n",
       "      <td>Hermes</td>\n",
       "      <td>NaN</td>\n",
       "      <td>[['CDI'], [''], ['France'], [''], ['Bobigny']]</td>\n",
       "      <td>NaN</td>\n",
       "    </tr>\n",
       "    <tr>\n",
       "      <th>1</th>\n",
       "      <td>1</td>\n",
       "      <td>Department Manager - Harrods Accessories</td>\n",
       "      <td>/fr/les-opportunites/147049fr-department-manag...</td>\n",
       "      <td>Hermes</td>\n",
       "      <td>NaN</td>\n",
       "      <td>[['CDI'], [''], ['Royaume-Uni'], [''], ['Londo...</td>\n",
       "      <td>NaN</td>\n",
       "    </tr>\n",
       "  </tbody>\n",
       "</table>\n",
       "</div>"
      ],
      "text/plain": [
       "   Unnamed: 0                                           Position  \\\n",
       "0           0  CDI - Chargé de formation interne et communica...   \n",
       "1           1           Department Manager - Harrods Accessories   \n",
       "\n",
       "                                                link Company  Department  \\\n",
       "0  /fr/les-opportunites/146944fr-cdi-charge-de-fo...  Hermes         NaN   \n",
       "1  /fr/les-opportunites/147049fr-department-manag...  Hermes         NaN   \n",
       "\n",
       "                                            Location  desc  \n",
       "0     [['CDI'], [''], ['France'], [''], ['Bobigny']]   NaN  \n",
       "1  [['CDI'], [''], ['Royaume-Uni'], [''], ['Londo...   NaN  "
      ]
     },
     "execution_count": 5,
     "metadata": {},
     "output_type": "execute_result"
    }
   ],
   "source": [
    "hermes_db.head(2)"
   ]
  },
  {
   "cell_type": "code",
   "execution_count": 6,
   "metadata": {},
   "outputs": [
    {
     "data": {
      "text/html": [
       "<div>\n",
       "<style scoped>\n",
       "    .dataframe tbody tr th:only-of-type {\n",
       "        vertical-align: middle;\n",
       "    }\n",
       "\n",
       "    .dataframe tbody tr th {\n",
       "        vertical-align: top;\n",
       "    }\n",
       "\n",
       "    .dataframe thead th {\n",
       "        text-align: right;\n",
       "    }\n",
       "</style>\n",
       "<table border=\"1\" class=\"dataframe\">\n",
       "  <thead>\n",
       "    <tr style=\"text-align: right;\">\n",
       "      <th></th>\n",
       "      <th>Unnamed: 0</th>\n",
       "      <th>Position</th>\n",
       "      <th>link</th>\n",
       "      <th>Company</th>\n",
       "      <th>Department</th>\n",
       "      <th>Location</th>\n",
       "      <th>desc</th>\n",
       "    </tr>\n",
       "  </thead>\n",
       "  <tbody>\n",
       "    <tr>\n",
       "      <th>0</th>\n",
       "      <td>0</td>\n",
       "      <td>Correspondant Logistique sur la Base de Landiv...</td>\n",
       "      <td>/offre-de-emploi/emploi-correspondant-logistiq...</td>\n",
       "      <td>Dassault Aviation</td>\n",
       "      <td>NaN</td>\n",
       "      <td>[&lt;li&gt;Réf. : 2020-6622&lt;/li&gt;, &lt;li&gt;21/11/2020&lt;/li...</td>\n",
       "      <td>\\n\\n                Informations générales\\n  ...</td>\n",
       "    </tr>\n",
       "    <tr>\n",
       "      <th>1</th>\n",
       "      <td>1</td>\n",
       "      <td>Apprenti Chaudronnier H/F</td>\n",
       "      <td>/offre-de-emploi/emploi-apprenti-chaudronnier-...</td>\n",
       "      <td>Dassault Aviation</td>\n",
       "      <td>NaN</td>\n",
       "      <td>[&lt;li&gt;Réf. : 2020-6609&lt;/li&gt;, &lt;li&gt;21/11/2020&lt;/li...</td>\n",
       "      <td>\\nLocalisation de l'offre\\n\\tLocalisation\\nFra...</td>\n",
       "    </tr>\n",
       "  </tbody>\n",
       "</table>\n",
       "</div>"
      ],
      "text/plain": [
       "   Unnamed: 0                                           Position  \\\n",
       "0           0  Correspondant Logistique sur la Base de Landiv...   \n",
       "1           1                          Apprenti Chaudronnier H/F   \n",
       "\n",
       "                                                link            Company  \\\n",
       "0  /offre-de-emploi/emploi-correspondant-logistiq...  Dassault Aviation   \n",
       "1  /offre-de-emploi/emploi-apprenti-chaudronnier-...  Dassault Aviation   \n",
       "\n",
       "   Department                                           Location  \\\n",
       "0         NaN  [<li>Réf. : 2020-6622</li>, <li>21/11/2020</li...   \n",
       "1         NaN  [<li>Réf. : 2020-6609</li>, <li>21/11/2020</li...   \n",
       "\n",
       "                                                desc  \n",
       "0  \\n\\n                Informations générales\\n  ...  \n",
       "1  \\nLocalisation de l'offre\\n\\tLocalisation\\nFra...  "
      ]
     },
     "execution_count": 6,
     "metadata": {},
     "output_type": "execute_result"
    }
   ],
   "source": [
    "richemont_db.head(2)"
   ]
  },
  {
   "cell_type": "code",
   "execution_count": 7,
   "metadata": {},
   "outputs": [
    {
     "data": {
      "text/html": [
       "<div>\n",
       "<style scoped>\n",
       "    .dataframe tbody tr th:only-of-type {\n",
       "        vertical-align: middle;\n",
       "    }\n",
       "\n",
       "    .dataframe tbody tr th {\n",
       "        vertical-align: top;\n",
       "    }\n",
       "\n",
       "    .dataframe thead th {\n",
       "        text-align: right;\n",
       "    }\n",
       "</style>\n",
       "<table border=\"1\" class=\"dataframe\">\n",
       "  <thead>\n",
       "    <tr style=\"text-align: right;\">\n",
       "      <th></th>\n",
       "      <th>Unnamed: 0</th>\n",
       "      <th>Position</th>\n",
       "      <th>link</th>\n",
       "      <th>Company</th>\n",
       "      <th>Department</th>\n",
       "      <th>Location</th>\n",
       "      <th>desc</th>\n",
       "    </tr>\n",
       "  </thead>\n",
       "  <tbody>\n",
       "    <tr>\n",
       "      <th>0</th>\n",
       "      <td>0</td>\n",
       "      <td>Regulatory Site Officer External Supply QA</td>\n",
       "      <td>/emploi/waltham/regulatory-site-officer-extern...</td>\n",
       "      <td>Sanofi</td>\n",
       "      <td>NaN</td>\n",
       "      <td>Waltham, Massachusetts</td>\n",
       "      <td>POSITION OVERVIEWRegulatory Site Officer Exter...</td>\n",
       "    </tr>\n",
       "    <tr>\n",
       "      <th>1</th>\n",
       "      <td>1</td>\n",
       "      <td>HSE Analyst</td>\n",
       "      <td>/emploi/ocoyoacac/hse-analyst/20874/18068424</td>\n",
       "      <td>Sanofi</td>\n",
       "      <td>NaN</td>\n",
       "      <td>Ocoyoacac, Mexique</td>\n",
       "      <td>ANALISTA DE HSEOCOYOACACSanofi es uno de los p...</td>\n",
       "    </tr>\n",
       "  </tbody>\n",
       "</table>\n",
       "</div>"
      ],
      "text/plain": [
       "   Unnamed: 0                                    Position  \\\n",
       "0           0  Regulatory Site Officer External Supply QA   \n",
       "1           1                                 HSE Analyst   \n",
       "\n",
       "                                                link Company  Department  \\\n",
       "0  /emploi/waltham/regulatory-site-officer-extern...  Sanofi         NaN   \n",
       "1       /emploi/ocoyoacac/hse-analyst/20874/18068424  Sanofi         NaN   \n",
       "\n",
       "                 Location                                               desc  \n",
       "0  Waltham, Massachusetts  POSITION OVERVIEWRegulatory Site Officer Exter...  \n",
       "1      Ocoyoacac, Mexique  ANALISTA DE HSEOCOYOACACSanofi es uno de los p...  "
      ]
     },
     "execution_count": 7,
     "metadata": {},
     "output_type": "execute_result"
    }
   ],
   "source": [
    "sanofi_db.head(2)"
   ]
  },
  {
   "cell_type": "code",
   "execution_count": null,
   "metadata": {},
   "outputs": [],
   "source": []
  },
  {
   "cell_type": "code",
   "execution_count": null,
   "metadata": {},
   "outputs": [],
   "source": []
  },
  {
   "cell_type": "code",
   "execution_count": null,
   "metadata": {},
   "outputs": [],
   "source": []
  },
  {
   "cell_type": "code",
   "execution_count": null,
   "metadata": {},
   "outputs": [],
   "source": []
  }
 ],
 "metadata": {
  "kernelspec": {
   "display_name": "Python 3",
   "language": "python",
   "name": "python3"
  },
  "language_info": {
   "codemirror_mode": {
    "name": "ipython",
    "version": 3
   },
   "file_extension": ".py",
   "mimetype": "text/x-python",
   "name": "python",
   "nbconvert_exporter": "python",
   "pygments_lexer": "ipython3",
   "version": "3.7.3"
  }
 },
 "nbformat": 4,
 "nbformat_minor": 2
}
