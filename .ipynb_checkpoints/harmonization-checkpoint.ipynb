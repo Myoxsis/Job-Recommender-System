{
 "cells": [
  {
   "cell_type": "code",
   "execution_count": null,
   "metadata": {},
   "outputs": [],
   "source": [
    "# this program aims to harmonize the databases of different company in one data lake"
   ]
  },
  {
   "cell_type": "code",
   "execution_count": 1,
   "metadata": {},
   "outputs": [],
   "source": [
    "import pandas as pd"
   ]
  },
  {
   "cell_type": "code",
   "execution_count": 8,
   "metadata": {},
   "outputs": [],
   "source": [
    "# Import databases\n",
    "\n",
    "airFrance_db = pd.read_csv('backup/airFrance_db.csv')\n",
    "hermes_db = pd.read_csv('backup/hermes_db.csv')\n",
    "richemont_db = pd.read_csv('backup/richemont_db.csv')\n",
    "sanofi_db = pd.read_csv('backup/sanofi_db.csv')\n",
    "dassaultAviation_db = pd.read_csv('backup/dassaultAviation_db.csv')"
   ]
  },
  {
   "cell_type": "code",
   "execution_count": null,
   "metadata": {},
   "outputs": [],
   "source": [
    "# Define Data lake structure\n",
    "# Company  |  Position  |  Link  |  desc  |  location"
   ]
  },
  {
   "cell_type": "code",
   "execution_count": 9,
   "metadata": {},
   "outputs": [
    {
     "data": {
      "text/html": [
       "<div>\n",
       "<style scoped>\n",
       "    .dataframe tbody tr th:only-of-type {\n",
       "        vertical-align: middle;\n",
       "    }\n",
       "\n",
       "    .dataframe tbody tr th {\n",
       "        vertical-align: top;\n",
       "    }\n",
       "\n",
       "    .dataframe thead th {\n",
       "        text-align: right;\n",
       "    }\n",
       "</style>\n",
       "<table border=\"1\" class=\"dataframe\">\n",
       "  <thead>\n",
       "    <tr style=\"text-align: right;\">\n",
       "      <th></th>\n",
       "      <th>Position</th>\n",
       "      <th>link</th>\n",
       "      <th>Company</th>\n",
       "      <th>Location</th>\n",
       "      <th>desc</th>\n",
       "      <th>contract_type</th>\n",
       "    </tr>\n",
       "  </thead>\n",
       "  <tbody>\n",
       "    <tr>\n",
       "      <th>0</th>\n",
       "      <td>STAGE – Développeur Web Full Stack H/F</td>\n",
       "      <td>/offre-de-emploi/emploi-stage-developpeur-web-...</td>\n",
       "      <td>Air France</td>\n",
       "      <td>Occitanie</td>\n",
       "      <td>\\n\\n                Informations générales\\n  ...</td>\n",
       "      <td>Convention de stage</td>\n",
       "    </tr>\n",
       "    <tr>\n",
       "      <th>1</th>\n",
       "      <td>STAGE - Ingénierie Analyse des Paramètres Enre...</td>\n",
       "      <td>/offre-de-emploi/emploi-stage-ingenierie-analy...</td>\n",
       "      <td>Air France</td>\n",
       "      <td>Ile-de-France</td>\n",
       "      <td>\\n\\n                Informations générales\\n  ...</td>\n",
       "      <td>Convention de stage</td>\n",
       "    </tr>\n",
       "  </tbody>\n",
       "</table>\n",
       "</div>"
      ],
      "text/plain": [
       "                                            Position  \\\n",
       "0             STAGE – Développeur Web Full Stack H/F   \n",
       "1  STAGE - Ingénierie Analyse des Paramètres Enre...   \n",
       "\n",
       "                                                link     Company  \\\n",
       "0  /offre-de-emploi/emploi-stage-developpeur-web-...  Air France   \n",
       "1  /offre-de-emploi/emploi-stage-ingenierie-analy...  Air France   \n",
       "\n",
       "         Location                                               desc  \\\n",
       "0       Occitanie  \\n\\n                Informations générales\\n  ...   \n",
       "1   Ile-de-France  \\n\\n                Informations générales\\n  ...   \n",
       "\n",
       "         contract_type  \n",
       "0  Convention de stage  \n",
       "1  Convention de stage  "
      ]
     },
     "execution_count": 9,
     "metadata": {},
     "output_type": "execute_result"
    }
   ],
   "source": [
    "airFrance_db = airFrance_db.drop(columns=['Unnamed: 0', 'Department'])\n",
    "airFrance_db['contract_type'] = airFrance_db['Location'].apply(lambda x : x.split(',')[0])\n",
    "airFrance_db['Location'] = airFrance_db['Location'].apply(lambda x : x.split(',')[1])\n",
    "airFrance_db['contract_type'] = airFrance_db['contract_type'].apply(lambda x : x.replace('<li>', '').replace('</li>', '').replace('[', ''))\n",
    "airFrance_db['Location'] = airFrance_db['Location'].apply(lambda x : x.replace('<li>', '').replace('</li>', '').replace(']', ''))\n",
    "airFrance_db.head(2)"
   ]
  },
  {
   "cell_type": "code",
   "execution_count": 10,
   "metadata": {},
   "outputs": [
    {
     "data": {
      "text/html": [
       "<div>\n",
       "<style scoped>\n",
       "    .dataframe tbody tr th:only-of-type {\n",
       "        vertical-align: middle;\n",
       "    }\n",
       "\n",
       "    .dataframe tbody tr th {\n",
       "        vertical-align: top;\n",
       "    }\n",
       "\n",
       "    .dataframe thead th {\n",
       "        text-align: right;\n",
       "    }\n",
       "</style>\n",
       "<table border=\"1\" class=\"dataframe\">\n",
       "  <thead>\n",
       "    <tr style=\"text-align: right;\">\n",
       "      <th></th>\n",
       "      <th>Position</th>\n",
       "      <th>link</th>\n",
       "      <th>Company</th>\n",
       "      <th>Location</th>\n",
       "      <th>desc</th>\n",
       "      <th>contract_type</th>\n",
       "    </tr>\n",
       "  </thead>\n",
       "  <tbody>\n",
       "    <tr>\n",
       "      <th>0</th>\n",
       "      <td>CDI - Chargé de formation interne et communica...</td>\n",
       "      <td>/fr/les-opportunites/146944fr-cdi-charge-de-fo...</td>\n",
       "      <td>Hermes</td>\n",
       "      <td>Bobigny</td>\n",
       "      <td>20.11.2020CDI - Chargé de formation interne et...</td>\n",
       "      <td>CDI</td>\n",
       "    </tr>\n",
       "    <tr>\n",
       "      <th>1</th>\n",
       "      <td>Department Manager - Harrods Accessories</td>\n",
       "      <td>/fr/les-opportunites/147049fr-department-manag...</td>\n",
       "      <td>Hermes</td>\n",
       "      <td>London</td>\n",
       "      <td>20.11.2020Department Manager - Harrods Accesso...</td>\n",
       "      <td>CDI</td>\n",
       "    </tr>\n",
       "  </tbody>\n",
       "</table>\n",
       "</div>"
      ],
      "text/plain": [
       "                                            Position  \\\n",
       "0  CDI - Chargé de formation interne et communica...   \n",
       "1           Department Manager - Harrods Accessories   \n",
       "\n",
       "                                                link Company  Location  \\\n",
       "0  /fr/les-opportunites/146944fr-cdi-charge-de-fo...  Hermes   Bobigny   \n",
       "1  /fr/les-opportunites/147049fr-department-manag...  Hermes    London   \n",
       "\n",
       "                                                desc contract_type  \n",
       "0  20.11.2020CDI - Chargé de formation interne et...           CDI  \n",
       "1  20.11.2020Department Manager - Harrods Accesso...           CDI  "
      ]
     },
     "execution_count": 10,
     "metadata": {},
     "output_type": "execute_result"
    }
   ],
   "source": [
    "hermes_db = hermes_db.drop(columns=['Unnamed: 0', 'Department'])\n",
    "hermes_db['contract_type'] = hermes_db['Location'].apply(lambda x : x.split(',')[0])\n",
    "hermes_db['Location'] = hermes_db['Location'].apply(lambda x : x.split(',')[4])\n",
    "hermes_db['contract_type'] = hermes_db['contract_type'].apply(lambda x : x.replace(\"'\", '').replace('[', ''))\n",
    "hermes_db['Location'] = hermes_db['Location'].apply(lambda x : x.replace(\"'\", '').replace(']', ''))\n",
    "hermes_db.head(2)"
   ]
  },
  {
   "cell_type": "code",
   "execution_count": 11,
   "metadata": {},
   "outputs": [
    {
     "data": {
      "text/html": [
       "<div>\n",
       "<style scoped>\n",
       "    .dataframe tbody tr th:only-of-type {\n",
       "        vertical-align: middle;\n",
       "    }\n",
       "\n",
       "    .dataframe tbody tr th {\n",
       "        vertical-align: top;\n",
       "    }\n",
       "\n",
       "    .dataframe thead th {\n",
       "        text-align: right;\n",
       "    }\n",
       "</style>\n",
       "<table border=\"1\" class=\"dataframe\">\n",
       "  <thead>\n",
       "    <tr style=\"text-align: right;\">\n",
       "      <th></th>\n",
       "      <th>Position</th>\n",
       "      <th>link</th>\n",
       "      <th>Company</th>\n",
       "      <th>Location</th>\n",
       "      <th>desc</th>\n",
       "      <th>contract_type</th>\n",
       "    </tr>\n",
       "  </thead>\n",
       "  <tbody>\n",
       "    <tr>\n",
       "      <th>0</th>\n",
       "      <td>Stagiaire Coordinateur/rice Productions Editor...</td>\n",
       "      <td>/Alaia/job/Paris-Stagiaire-Coordinateurrice-Pr...</td>\n",
       "      <td>Alaïa</td>\n",
       "      <td>Paris, 75, FR</td>\n",
       "      <td>Créée en 1983, la Maison Azzedine Alaïa, sous ...</td>\n",
       "      <td></td>\n",
       "    </tr>\n",
       "    <tr>\n",
       "      <th>1</th>\n",
       "      <td>TECHNICIENNE PRODUIT (H/F)</td>\n",
       "      <td>/Chloe/job/paris-TECHNICIENNE-PRODUIT-%28HF%29...</td>\n",
       "      <td>Chloé</td>\n",
       "      <td>paris, 75, FR</td>\n",
       "      <td>Poste à pourvoir en CDD dès que possible jusqu...</td>\n",
       "      <td></td>\n",
       "    </tr>\n",
       "  </tbody>\n",
       "</table>\n",
       "</div>"
      ],
      "text/plain": [
       "                                            Position  \\\n",
       "0  Stagiaire Coordinateur/rice Productions Editor...   \n",
       "1                         TECHNICIENNE PRODUIT (H/F)   \n",
       "\n",
       "                                                link Company       Location  \\\n",
       "0  /Alaia/job/Paris-Stagiaire-Coordinateurrice-Pr...   Alaïa  Paris, 75, FR   \n",
       "1  /Chloe/job/paris-TECHNICIENNE-PRODUIT-%28HF%29...   Chloé  paris, 75, FR   \n",
       "\n",
       "                                                desc contract_type  \n",
       "0  Créée en 1983, la Maison Azzedine Alaïa, sous ...                \n",
       "1  Poste à pourvoir en CDD dès que possible jusqu...                "
      ]
     },
     "execution_count": 11,
     "metadata": {},
     "output_type": "execute_result"
    }
   ],
   "source": [
    "richemont_db = richemont_db.drop(columns=['Unnamed: 0', 'Department'])\n",
    "richemont_db['contract_type'] = ''\n",
    "richemont_db.head(2)"
   ]
  },
  {
   "cell_type": "code",
   "execution_count": 12,
   "metadata": {},
   "outputs": [
    {
     "data": {
      "text/html": [
       "<div>\n",
       "<style scoped>\n",
       "    .dataframe tbody tr th:only-of-type {\n",
       "        vertical-align: middle;\n",
       "    }\n",
       "\n",
       "    .dataframe tbody tr th {\n",
       "        vertical-align: top;\n",
       "    }\n",
       "\n",
       "    .dataframe thead th {\n",
       "        text-align: right;\n",
       "    }\n",
       "</style>\n",
       "<table border=\"1\" class=\"dataframe\">\n",
       "  <thead>\n",
       "    <tr style=\"text-align: right;\">\n",
       "      <th></th>\n",
       "      <th>Position</th>\n",
       "      <th>link</th>\n",
       "      <th>Company</th>\n",
       "      <th>Location</th>\n",
       "      <th>desc</th>\n",
       "      <th>contract_type</th>\n",
       "    </tr>\n",
       "  </thead>\n",
       "  <tbody>\n",
       "    <tr>\n",
       "      <th>0</th>\n",
       "      <td>Regulatory Site Officer External Supply QA</td>\n",
       "      <td>/emploi/waltham/regulatory-site-officer-extern...</td>\n",
       "      <td>Sanofi</td>\n",
       "      <td>Waltham, Massachusetts</td>\n",
       "      <td>POSITION OVERVIEWRegulatory Site Officer Exter...</td>\n",
       "      <td></td>\n",
       "    </tr>\n",
       "    <tr>\n",
       "      <th>1</th>\n",
       "      <td>HSE Analyst</td>\n",
       "      <td>/emploi/ocoyoacac/hse-analyst/20874/18068424</td>\n",
       "      <td>Sanofi</td>\n",
       "      <td>Ocoyoacac, Mexique</td>\n",
       "      <td>ANALISTA DE HSEOCOYOACACSanofi es uno de los p...</td>\n",
       "      <td></td>\n",
       "    </tr>\n",
       "  </tbody>\n",
       "</table>\n",
       "</div>"
      ],
      "text/plain": [
       "                                     Position  \\\n",
       "0  Regulatory Site Officer External Supply QA   \n",
       "1                                 HSE Analyst   \n",
       "\n",
       "                                                link Company  \\\n",
       "0  /emploi/waltham/regulatory-site-officer-extern...  Sanofi   \n",
       "1       /emploi/ocoyoacac/hse-analyst/20874/18068424  Sanofi   \n",
       "\n",
       "                 Location                                               desc  \\\n",
       "0  Waltham, Massachusetts  POSITION OVERVIEWRegulatory Site Officer Exter...   \n",
       "1      Ocoyoacac, Mexique  ANALISTA DE HSEOCOYOACACSanofi es uno de los p...   \n",
       "\n",
       "  contract_type  \n",
       "0                \n",
       "1                "
      ]
     },
     "execution_count": 12,
     "metadata": {},
     "output_type": "execute_result"
    }
   ],
   "source": [
    "sanofi_db = sanofi_db.drop(columns=['Unnamed: 0', 'Department'])\n",
    "sanofi_db['contract_type'] = ''\n",
    "sanofi_db.head(2)"
   ]
  },
  {
   "cell_type": "code",
   "execution_count": 13,
   "metadata": {},
   "outputs": [
    {
     "data": {
      "text/html": [
       "<div>\n",
       "<style scoped>\n",
       "    .dataframe tbody tr th:only-of-type {\n",
       "        vertical-align: middle;\n",
       "    }\n",
       "\n",
       "    .dataframe tbody tr th {\n",
       "        vertical-align: top;\n",
       "    }\n",
       "\n",
       "    .dataframe thead th {\n",
       "        text-align: right;\n",
       "    }\n",
       "</style>\n",
       "<table border=\"1\" class=\"dataframe\">\n",
       "  <thead>\n",
       "    <tr style=\"text-align: right;\">\n",
       "      <th></th>\n",
       "      <th>Position</th>\n",
       "      <th>link</th>\n",
       "      <th>Company</th>\n",
       "      <th>Location</th>\n",
       "      <th>desc</th>\n",
       "      <th>contract_type</th>\n",
       "    </tr>\n",
       "  </thead>\n",
       "  <tbody>\n",
       "    <tr>\n",
       "      <th>0</th>\n",
       "      <td>Consultant technico-fonctionnel SAP FI/CO H/F</td>\n",
       "      <td>/offre-de-emploi/emploi-consultant-technico-fo...</td>\n",
       "      <td>Dassault Aviation</td>\n",
       "      <td>Saint-Cloud (92)</td>\n",
       "      <td>\\nLocalisation de l'offre\\n\\tLocalisation\\nFra...</td>\n",
       "      <td>CDI</td>\n",
       "    </tr>\n",
       "    <tr>\n",
       "      <th>1</th>\n",
       "      <td>Correspondant Logistique sur la Base de Landiv...</td>\n",
       "      <td>/offre-de-emploi/emploi-correspondant-logistiq...</td>\n",
       "      <td>Dassault Aviation</td>\n",
       "      <td>Saint-Cloud (92)</td>\n",
       "      <td>\\nLocalisation de l'offre\\n\\tLocalisation\\nFra...</td>\n",
       "      <td>CDI</td>\n",
       "    </tr>\n",
       "  </tbody>\n",
       "</table>\n",
       "</div>"
      ],
      "text/plain": [
       "                                            Position  \\\n",
       "0      Consultant technico-fonctionnel SAP FI/CO H/F   \n",
       "1  Correspondant Logistique sur la Base de Landiv...   \n",
       "\n",
       "                                                link            Company  \\\n",
       "0  /offre-de-emploi/emploi-consultant-technico-fo...  Dassault Aviation   \n",
       "1  /offre-de-emploi/emploi-correspondant-logistiq...  Dassault Aviation   \n",
       "\n",
       "            Location                                               desc  \\\n",
       "0   Saint-Cloud (92)  \\nLocalisation de l'offre\\n\\tLocalisation\\nFra...   \n",
       "1   Saint-Cloud (92)  \\nLocalisation de l'offre\\n\\tLocalisation\\nFra...   \n",
       "\n",
       "  contract_type  \n",
       "0           CDI  \n",
       "1           CDI  "
      ]
     },
     "execution_count": 13,
     "metadata": {},
     "output_type": "execute_result"
    }
   ],
   "source": [
    "dassaultAviation_db = dassaultAviation_db.drop(columns=['Unnamed: 0', 'Department'])\n",
    "dassaultAviation_db['contract_type'] = dassaultAviation_db['Location'].apply(lambda x : x.split(',')[2])\n",
    "dassaultAviation_db['Location'] = dassaultAviation_db['Location'].apply(lambda x : x.split(',')[3])\n",
    "dassaultAviation_db['contract_type'] = dassaultAviation_db['contract_type'].apply(lambda x : x.replace('<li>', '').replace('</li>', ''))\n",
    "dassaultAviation_db['Location'] = dassaultAviation_db['Location'].apply(lambda x : x.replace('<li class=\"noBorder\">', '').replace('</li>', '').replace(']', ''))\n",
    "dassaultAviation_db.head(2)"
   ]
  },
  {
   "cell_type": "code",
   "execution_count": 14,
   "metadata": {},
   "outputs": [],
   "source": [
    "df = pd.concat([airFrance_db, hermes_db, richemont_db, sanofi_db, dassaultAviation_db], ignore_index=True)"
   ]
  },
  {
   "cell_type": "code",
   "execution_count": 17,
   "metadata": {},
   "outputs": [],
   "source": [
    "df.to_json('raw_db.json', orient='index')"
   ]
  },
  {
   "cell_type": "code",
   "execution_count": null,
   "metadata": {},
   "outputs": [],
   "source": []
  },
  {
   "cell_type": "code",
   "execution_count": null,
   "metadata": {},
   "outputs": [],
   "source": []
  },
  {
   "cell_type": "code",
   "execution_count": null,
   "metadata": {},
   "outputs": [],
   "source": []
  },
  {
   "cell_type": "code",
   "execution_count": null,
   "metadata": {},
   "outputs": [],
   "source": []
  },
  {
   "cell_type": "code",
   "execution_count": null,
   "metadata": {},
   "outputs": [],
   "source": []
  },
  {
   "cell_type": "code",
   "execution_count": null,
   "metadata": {},
   "outputs": [],
   "source": []
  },
  {
   "cell_type": "code",
   "execution_count": null,
   "metadata": {},
   "outputs": [],
   "source": []
  },
  {
   "cell_type": "code",
   "execution_count": null,
   "metadata": {},
   "outputs": [],
   "source": []
  },
  {
   "cell_type": "code",
   "execution_count": null,
   "metadata": {},
   "outputs": [],
   "source": []
  }
 ],
 "metadata": {
  "kernelspec": {
   "display_name": "Python 3",
   "language": "python",
   "name": "python3"
  },
  "language_info": {
   "codemirror_mode": {
    "name": "ipython",
    "version": 3
   },
   "file_extension": ".py",
   "mimetype": "text/x-python",
   "name": "python",
   "nbconvert_exporter": "python",
   "pygments_lexer": "ipython3",
   "version": "3.7.3"
  }
 },
 "nbformat": 4,
 "nbformat_minor": 2
}
